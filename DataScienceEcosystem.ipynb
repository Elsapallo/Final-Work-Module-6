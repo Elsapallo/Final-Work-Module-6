{
 "cells": [
  {
   "cell_type": "markdown",
   "id": "80113d92-5e80-4238-af67-b6260ed4efca",
   "metadata": {},
   "source": [
    "# Data Science Tools and Ecosystem"
   ]
  },
  {
   "cell_type": "markdown",
   "id": "4766d3c7-a19f-4725-b026-c36ee91499fb",
   "metadata": {},
   "source": [
    "### In this notebook, Data Science Tools and Ecosystem are summarized."
   ]
  },
  {
   "cell_type": "markdown",
   "id": "9b160d04-4987-4be8-bb37-e8c63035fb4b",
   "metadata": {},
   "source": [
    "## **Objectives**:\n",
    "- List popular languages for Data Science.\n",
    "- List the most used libraries in Data Science.\n",
    "- List the most used IDEs in Data Science.\n",
    "- Perform simple arithmetic operations."
   ]
  },
  {
   "cell_type": "markdown",
   "id": "83701ac4-bfaf-4592-a4b3-bd5f6d726ee2",
   "metadata": {},
   "source": [
    "## Some of the popular languages that Data Scientists use are:"
   ]
  },
  {
   "cell_type": "markdown",
   "id": "126b1916-2d01-4b19-888d-f717df614ba3",
   "metadata": {},
   "source": [
    "1. Python\n",
    "2. R\n",
    "3. Scala\n",
    "4. Julia\n",
    "5. C ++"
   ]
  },
  {
   "cell_type": "markdown",
   "id": "5b872fbc-3c22-4318-b192-80d6c77a51b9",
   "metadata": {},
   "source": [
    "## Some of the commonly used libraries used by Data Scientists include:"
   ]
  },
  {
   "cell_type": "markdown",
   "id": "6f8d207a-1b51-4c1d-913a-1a7748e4ea02",
   "metadata": {},
   "source": [
    "1. pyhton\n",
    "    * Pandas\n",
    "    * NumPy\n",
    "    * matplotlib\n",
    "    * Scikit-learn \n",
    "2. R\n",
    "   * ggplot2\n",
    "   * dplyr\n",
    "3. Scala\n",
    "   * Vegas\n",
    "   * BigDL"
   ]
  },
  {
   "cell_type": "markdown",
   "id": "d6d922a0-ade0-4f75-b24c-1078532edae7",
   "metadata": {},
   "source": [
    "| Data Science Tools |\n",
    "|--------------------------------|\n",
    "|           RStudio              |\n",
    "|         Jupyter Notebook       |\n",
    "|       Visual Studio Code       |"
   ]
  },
  {
   "cell_type": "markdown",
   "id": "ff1dc8b5-10f3-4e19-81b7-136bc93cf662",
   "metadata": {},
   "source": [
    "### Below are a few examples of evaluating arithmetic expressions in Python"
   ]
  },
  {
   "cell_type": "code",
   "execution_count": 3,
   "id": "cea1f1c4-ee19-4b6d-80f8-5a744b494dfc",
   "metadata": {},
   "outputs": [
    {
     "data": {
      "text/plain": [
       "17"
      ]
     },
     "execution_count": 3,
     "metadata": {},
     "output_type": "execute_result"
    }
   ],
   "source": [
    "# This a simple arithmetic expression to mutiply then add integers\n",
    "(3*4)+5"
   ]
  },
  {
   "cell_type": "code",
   "execution_count": 11,
   "id": "7af7917a-6b18-490b-96e3-e7f675cb79e2",
   "metadata": {},
   "outputs": [
    {
     "data": {
      "text/plain": [
       "3.3333333333333335"
      ]
     },
     "execution_count": 11,
     "metadata": {},
     "output_type": "execute_result"
    }
   ],
   "source": [
    "# This will convert 200 minutes to hours by diving by 60\n",
    "200/60"
   ]
  },
  {
   "cell_type": "markdown",
   "id": "278e4f5a-72c5-49e2-b818-8c0a48f31f24",
   "metadata": {},
   "source": [
    "## Author\n",
    "Fernando Cid González"
   ]
  }
 ],
 "metadata": {
  "kernelspec": {
   "display_name": "Python [conda env:base] *",
   "language": "python",
   "name": "conda-base-py"
  },
  "language_info": {
   "codemirror_mode": {
    "name": "ipython",
    "version": 3
   },
   "file_extension": ".py",
   "mimetype": "text/x-python",
   "name": "python",
   "nbconvert_exporter": "python",
   "pygments_lexer": "ipython3",
   "version": "3.13.5"
  }
 },
 "nbformat": 4,
 "nbformat_minor": 5
}
